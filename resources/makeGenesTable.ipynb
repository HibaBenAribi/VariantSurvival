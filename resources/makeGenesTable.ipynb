{
 "cells": [
  {
   "cell_type": "code",
   "execution_count": null,
   "metadata": {},
   "outputs": [],
   "source": [
    "# Install conda\n",
    "\n",
    "%%bash\n",
    "wget https://repo.anaconda.com/miniconda/Miniconda3-py39_4.12.0-Linux-x86_64.sh\n",
    "bash Miniconda3-py39_4.12.0-Linux-x86_64.sh\n",
    "apt update\n",
    "apt install parallel bcftools\n",
    "\n",
    "# Install conda\n",
    "%%bash\n",
    "wget https://ftp.ebi.ac.uk/pub/databases/gencode/Gencode_human/release_19/gencode.v19.annotation.gff3.gz\n",
    "gzip -d gencode.v19.annotation.gff3.gz"
   ]
  },
  {
   "cell_type": "code",
   "execution_count": null,
   "metadata": {},
   "outputs": [],
   "source": [
    "#genes ALS2 ANG CHMP2B DAO DCTN1 FIG4 FUS NEFH OPTN PFN1 PON1 PON2 PON3 PRPH SETX SOD1 SQSTM1 TARDBP TREM2 UBQLN2 VAPB VCPVEGFA\n",
    "\n",
    "# the below code is to generate the regions of all those genes\n",
    "\n",
    "%%bash\n",
    "parallel --gnu \" ./GeneTarget/getRegions.sh {} > {}.regions  \" ::: ALS2 ANG CHMP2B DAO DCTN1 FIG4 FUS NEFH OPTN PFN1 PON1 PON2   PON3 PRPH SETX  SOD1  SQSTM1 TARDBP TREM2 UBQLN2  VAPB VCPVEGFA"
   ]
  },
  {
   "cell_type": "code",
   "execution_count": null,
   "metadata": {},
   "outputs": [],
   "source": [
    "%%bash\n",
    "wc -l *regions"
   ]
  },
  {
   "cell_type": "code",
   "execution_count": null,
   "metadata": {},
   "outputs": [],
   "source": [
    "# Download VCF files from the project\n",
    "%%bash\n",
    "dx download SV/*"
   ]
  },
  {
   "cell_type": "code",
   "execution_count": null,
   "metadata": {},
   "outputs": [],
   "source": [
    "%%bash\n",
    "\n",
    "echo \"ALS2 ANG CHMP2B DAO DCTN1 FIG4 FUS NEFH OPTN PFN1 PON1 PON2   PON3 PRPH SETX  SOD1  SQSTM1 TARDBP TREM2 UBQLN2  VAPB VCPVEGFA\"| tr -s ' ' $'\\n' > genes\n",
    "ls GeneTarget/data/ | grep -P \"gz$\" > samples\n",
    "parallel --gnu 'bcftools view -R {1}.regions GeneTarget/data/{2} > events/{1}_{2} ' :::: genes :::: samples                               "
   ]
  },
  {
   "cell_type": "code",
   "execution_count": null,
   "metadata": {},
   "outputs": [],
   "source": [
    "# Generate the table.csv\n",
    "\n",
    "from os import listdir\n",
    "from os.path import isfile, join\n",
    "mypath='events/'\n",
    "\n",
    "data={}\n",
    "genes=set()\n",
    "onlyfiles = [f for f in listdir(mypath) if isfile(join(mypath, f))]\n",
    "for fileName in onlyfiles:\n",
    "    i=fileName.find(\"_\")\n",
    "    gene=fileName[:i]\n",
    "    sample=fileName[i+1:]\n",
    "    genes.add(gene)\n",
    "    lines= [l.strip() for l in open('events/'+fileName)]\n",
    "    svs=filter(lambda l: len(l)>0 and l[0]!='#',lines)\n",
    "    numEvents=len(list(svs))\n",
    "    if sample not in data:\n",
    "        data[sample]={}\n",
    "    data[sample][gene]=numEvents\n",
    "\n",
    "genes=list(genes)\n",
    "outputFile=open(\"out.csv\",'w')\n",
    "header=[sample] + genes\n",
    "outputFile.write(\",\".join(header)+\"\\n\")\n",
    "\n",
    "for sample, events in data.items():\n",
    "    line=[sample]+[str(events[g]) for g in genes]\n",
    "    outputFile.write(\",\".join(line)+\"\\n\")\n",
    "    "
   ]
  }
 ],
 "metadata": {
  "kernelspec": {
   "display_name": "Python 3 (ipykernel)",
   "language": "python",
   "name": "python3"
  },
  "language_info": {
   "codemirror_mode": {
    "name": "ipython",
    "version": 3
   },
   "file_extension": ".py",
   "mimetype": "text/x-python",
   "name": "python",
   "nbconvert_exporter": "python",
   "pygments_lexer": "ipython3",
   "version": "3.9.6"
  }
 },
 "nbformat": 4,
 "nbformat_minor": 4
}
