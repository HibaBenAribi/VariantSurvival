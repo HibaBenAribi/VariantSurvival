{
 "cells": [
  {
   "cell_type": "code",
   "execution_count": null,
   "id": "ff2d16e0",
   "metadata": {
    "is_executing": true
   },
   "outputs": [],
   "source": [
    "# Install Bioconductor and Annotatehub to download the annotation files\n",
    "# I faced some problems installing the tools because R was old. makesure your R version is 4.2. I used conda to install the R but you can update R anyway\n",
    "\n",
    "if (!require(\"BiocManager\", quietly = TRUE))\n",
    "    install.packages(\"BiocManager\")\n",
    "\n",
    "BiocManager::install(version = \"3.15\")\n",
    "BiocManager::install()\n",
    "BiocManager::install(\"AnnotationHub\")\n",
    "BiocManager::install(\"StructuralVariantAnnotation\")\n",
    "library(StructuralVariantAnnotation)\n",
    "library(AnnotationHub)\n",
    "version()\n"
   ]
  },
  {
   "cell_type": "code",
   "execution_count": null,
   "id": "c89907b1",
   "metadata": {
    "is_executing": true
   },
   "outputs": [],
   "source": [
    "# Downloading genes annotation for hg19\n",
    "library(AnnotationHub)\n",
    "ah <- AnnotationHub()\n",
    "ah <- subset(ah, species == \"Homo sapiens\")\n",
    "ah"
   ]
  },
  {
   "cell_type": "code",
   "execution_count": null,
   "id": "f944ca39",
   "metadata": {},
   "outputs": [],
   "source": [
    "install.packages(\"shiny\")\n",
    "hist <- display(ah)"
   ]
  },
  {
   "cell_type": "code",
   "execution_count": null,
   "id": "e4337d29",
   "metadata": {},
   "outputs": [],
   "source": [
    "Human_gff = query(ah, c(\"Gencode\", \"gff\", \"human\"))"
   ]
  }
 ],
 "metadata": {
  "kernelspec": {
   "display_name": "R",
   "language": "R",
   "name": "ir"
  },
  "language_info": {
   "codemirror_mode": "r",
   "file_extension": ".r",
   "mimetype": "text/x-r-source",
   "name": "R",
   "pygments_lexer": "r",
   "version": "4.2.0"
  }
 },
 "nbformat": 4,
 "nbformat_minor": 5
}
